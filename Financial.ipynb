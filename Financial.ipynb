{
 "cells": [
  {
   "cell_type": "code",
   "execution_count": 2,
   "id": "93e176a7",
   "metadata": {},
   "outputs": [],
   "source": [
    "  #import necessary libraries\n",
    "import numpy as np\n",
    "import pandas as pd\n",
    "import matplotlib.pyplot as plt\n",
    "import seaborn as sns"
   ]
  },
  {
   "cell_type": "code",
   "execution_count": 3,
   "id": "ae35a92e",
   "metadata": {},
   "outputs": [],
   "source": [
    "#load the dataset\n",
    "df=pd.read_csv(\"Financial Analytics data.csv\")"
   ]
  },
  {
   "cell_type": "code",
   "execution_count": 4,
   "id": "48683732",
   "metadata": {},
   "outputs": [
    {
     "data": {
      "text/plain": [
       "(488, 5)"
      ]
     },
     "execution_count": 4,
     "metadata": {},
     "output_type": "execute_result"
    }
   ],
   "source": [
    "#number of rows and columns in the daatset\n",
    "df.shape"
   ]
  },
  {
   "cell_type": "code",
   "execution_count": 5,
   "id": "513c11ab",
   "metadata": {},
   "outputs": [
    {
     "data": {
      "text/html": [
       "<div>\n",
       "<style scoped>\n",
       "    .dataframe tbody tr th:only-of-type {\n",
       "        vertical-align: middle;\n",
       "    }\n",
       "\n",
       "    .dataframe tbody tr th {\n",
       "        vertical-align: top;\n",
       "    }\n",
       "\n",
       "    .dataframe thead th {\n",
       "        text-align: right;\n",
       "    }\n",
       "</style>\n",
       "<table border=\"1\" class=\"dataframe\">\n",
       "  <thead>\n",
       "    <tr style=\"text-align: right;\">\n",
       "      <th></th>\n",
       "      <th>S.No.</th>\n",
       "      <th>Name</th>\n",
       "      <th>Mar Cap - Crore</th>\n",
       "      <th>Sales Qtr - Crore</th>\n",
       "      <th>Unnamed: 4</th>\n",
       "    </tr>\n",
       "  </thead>\n",
       "  <tbody>\n",
       "    <tr>\n",
       "      <th>0</th>\n",
       "      <td>1</td>\n",
       "      <td>Reliance Inds.</td>\n",
       "      <td>583436.72</td>\n",
       "      <td>99810.00</td>\n",
       "      <td>NaN</td>\n",
       "    </tr>\n",
       "    <tr>\n",
       "      <th>1</th>\n",
       "      <td>2</td>\n",
       "      <td>TCS</td>\n",
       "      <td>563709.84</td>\n",
       "      <td>30904.00</td>\n",
       "      <td>NaN</td>\n",
       "    </tr>\n",
       "    <tr>\n",
       "      <th>2</th>\n",
       "      <td>3</td>\n",
       "      <td>HDFC Bank</td>\n",
       "      <td>482953.59</td>\n",
       "      <td>20581.27</td>\n",
       "      <td>NaN</td>\n",
       "    </tr>\n",
       "    <tr>\n",
       "      <th>3</th>\n",
       "      <td>4</td>\n",
       "      <td>ITC</td>\n",
       "      <td>320985.27</td>\n",
       "      <td>9772.02</td>\n",
       "      <td>NaN</td>\n",
       "    </tr>\n",
       "    <tr>\n",
       "      <th>4</th>\n",
       "      <td>5</td>\n",
       "      <td>H D F C</td>\n",
       "      <td>289497.37</td>\n",
       "      <td>16840.51</td>\n",
       "      <td>NaN</td>\n",
       "    </tr>\n",
       "  </tbody>\n",
       "</table>\n",
       "</div>"
      ],
      "text/plain": [
       "   S.No.            Name  Mar Cap - Crore  Sales Qtr - Crore  Unnamed: 4\n",
       "0      1  Reliance Inds.        583436.72           99810.00         NaN\n",
       "1      2             TCS        563709.84           30904.00         NaN\n",
       "2      3       HDFC Bank        482953.59           20581.27         NaN\n",
       "3      4             ITC        320985.27            9772.02         NaN\n",
       "4      5         H D F C        289497.37           16840.51         NaN"
      ]
     },
     "execution_count": 5,
     "metadata": {},
     "output_type": "execute_result"
    }
   ],
   "source": [
    "#print first five rows of dataset\n",
    "df.head()\n"
   ]
  },
  {
   "cell_type": "code",
   "execution_count": 6,
   "id": "0d8d746b",
   "metadata": {},
   "outputs": [
    {
     "name": "stdout",
     "output_type": "stream",
     "text": [
      "<class 'pandas.core.frame.DataFrame'>\n",
      "RangeIndex: 488 entries, 0 to 487\n",
      "Data columns (total 5 columns):\n",
      " #   Column             Non-Null Count  Dtype  \n",
      "---  ------             --------------  -----  \n",
      " 0   S.No.              488 non-null    int64  \n",
      " 1   Name               488 non-null    object \n",
      " 2   Mar Cap - Crore    479 non-null    float64\n",
      " 3   Sales Qtr - Crore  365 non-null    float64\n",
      " 4   Unnamed: 4         94 non-null     float64\n",
      "dtypes: float64(3), int64(1), object(1)\n",
      "memory usage: 19.2+ KB\n"
     ]
    }
   ],
   "source": [
    "#giving information about dataframe\n",
    "df.info()"
   ]
  },
  {
   "cell_type": "markdown",
   "id": "e82b9f85",
   "metadata": {},
   "source": [
    "# Data Cleaning"
   ]
  },
  {
   "cell_type": "code",
   "execution_count": 7,
   "id": "56afcac0",
   "metadata": {},
   "outputs": [],
   "source": [
    "#drop unrelated/ blank column\n",
    "df.drop(['Unnamed: 4'], axis=1,inplace=True)"
   ]
  },
  {
   "cell_type": "code",
   "execution_count": 8,
   "id": "708e735e",
   "metadata": {},
   "outputs": [
    {
     "name": "stdout",
     "output_type": "stream",
     "text": [
      "<class 'pandas.core.frame.DataFrame'>\n",
      "RangeIndex: 488 entries, 0 to 487\n",
      "Data columns (total 4 columns):\n",
      " #   Column             Non-Null Count  Dtype  \n",
      "---  ------             --------------  -----  \n",
      " 0   S.No.              488 non-null    int64  \n",
      " 1   Name               488 non-null    object \n",
      " 2   Mar Cap - Crore    479 non-null    float64\n",
      " 3   Sales Qtr - Crore  365 non-null    float64\n",
      "dtypes: float64(2), int64(1), object(1)\n",
      "memory usage: 15.4+ KB\n"
     ]
    }
   ],
   "source": [
    "#information about dataframe\n",
    "df.info()"
   ]
  },
  {
   "cell_type": "code",
   "execution_count": 9,
   "id": "ae07f2aa",
   "metadata": {},
   "outputs": [
    {
     "data": {
      "text/html": [
       "<div>\n",
       "<style scoped>\n",
       "    .dataframe tbody tr th:only-of-type {\n",
       "        vertical-align: middle;\n",
       "    }\n",
       "\n",
       "    .dataframe tbody tr th {\n",
       "        vertical-align: top;\n",
       "    }\n",
       "\n",
       "    .dataframe thead th {\n",
       "        text-align: right;\n",
       "    }\n",
       "</style>\n",
       "<table border=\"1\" class=\"dataframe\">\n",
       "  <thead>\n",
       "    <tr style=\"text-align: right;\">\n",
       "      <th></th>\n",
       "      <th>S.No.</th>\n",
       "      <th>Name</th>\n",
       "      <th>Mar Cap - Crore</th>\n",
       "      <th>Sales Qtr - Crore</th>\n",
       "    </tr>\n",
       "  </thead>\n",
       "  <tbody>\n",
       "    <tr>\n",
       "      <th>0</th>\n",
       "      <td>False</td>\n",
       "      <td>False</td>\n",
       "      <td>False</td>\n",
       "      <td>False</td>\n",
       "    </tr>\n",
       "    <tr>\n",
       "      <th>1</th>\n",
       "      <td>False</td>\n",
       "      <td>False</td>\n",
       "      <td>False</td>\n",
       "      <td>False</td>\n",
       "    </tr>\n",
       "    <tr>\n",
       "      <th>2</th>\n",
       "      <td>False</td>\n",
       "      <td>False</td>\n",
       "      <td>False</td>\n",
       "      <td>False</td>\n",
       "    </tr>\n",
       "    <tr>\n",
       "      <th>3</th>\n",
       "      <td>False</td>\n",
       "      <td>False</td>\n",
       "      <td>False</td>\n",
       "      <td>False</td>\n",
       "    </tr>\n",
       "    <tr>\n",
       "      <th>4</th>\n",
       "      <td>False</td>\n",
       "      <td>False</td>\n",
       "      <td>False</td>\n",
       "      <td>False</td>\n",
       "    </tr>\n",
       "    <tr>\n",
       "      <th>...</th>\n",
       "      <td>...</td>\n",
       "      <td>...</td>\n",
       "      <td>...</td>\n",
       "      <td>...</td>\n",
       "    </tr>\n",
       "    <tr>\n",
       "      <th>483</th>\n",
       "      <td>False</td>\n",
       "      <td>False</td>\n",
       "      <td>False</td>\n",
       "      <td>False</td>\n",
       "    </tr>\n",
       "    <tr>\n",
       "      <th>484</th>\n",
       "      <td>False</td>\n",
       "      <td>False</td>\n",
       "      <td>False</td>\n",
       "      <td>False</td>\n",
       "    </tr>\n",
       "    <tr>\n",
       "      <th>485</th>\n",
       "      <td>False</td>\n",
       "      <td>False</td>\n",
       "      <td>False</td>\n",
       "      <td>False</td>\n",
       "    </tr>\n",
       "    <tr>\n",
       "      <th>486</th>\n",
       "      <td>False</td>\n",
       "      <td>False</td>\n",
       "      <td>False</td>\n",
       "      <td>False</td>\n",
       "    </tr>\n",
       "    <tr>\n",
       "      <th>487</th>\n",
       "      <td>False</td>\n",
       "      <td>False</td>\n",
       "      <td>True</td>\n",
       "      <td>True</td>\n",
       "    </tr>\n",
       "  </tbody>\n",
       "</table>\n",
       "<p>488 rows × 4 columns</p>\n",
       "</div>"
      ],
      "text/plain": [
       "     S.No.   Name  Mar Cap - Crore  Sales Qtr - Crore\n",
       "0    False  False            False              False\n",
       "1    False  False            False              False\n",
       "2    False  False            False              False\n",
       "3    False  False            False              False\n",
       "4    False  False            False              False\n",
       "..     ...    ...              ...                ...\n",
       "483  False  False            False              False\n",
       "484  False  False            False              False\n",
       "485  False  False            False              False\n",
       "486  False  False            False              False\n",
       "487  False  False             True               True\n",
       "\n",
       "[488 rows x 4 columns]"
      ]
     },
     "execution_count": 9,
     "metadata": {},
     "output_type": "execute_result"
    }
   ],
   "source": [
    "#check for null values(true/false)\n",
    "df.isnull()"
   ]
  },
  {
   "cell_type": "code",
   "execution_count": 10,
   "id": "9755aa36",
   "metadata": {},
   "outputs": [
    {
     "data": {
      "text/plain": [
       "S.No.                  0\n",
       "Name                   0\n",
       "Mar Cap - Crore        9\n",
       "Sales Qtr - Crore    123\n",
       "dtype: int64"
      ]
     },
     "execution_count": 10,
     "metadata": {},
     "output_type": "execute_result"
    }
   ],
   "source": [
    "#total of null values\n",
    "df.isnull().sum()"
   ]
  },
  {
   "cell_type": "code",
   "execution_count": 11,
   "id": "e5c1741c",
   "metadata": {},
   "outputs": [
    {
     "data": {
      "text/plain": [
       "(488, 4)"
      ]
     },
     "execution_count": 11,
     "metadata": {},
     "output_type": "execute_result"
    }
   ],
   "source": [
    "df.shape"
   ]
  },
  {
   "cell_type": "code",
   "execution_count": 12,
   "id": "9b848679",
   "metadata": {
    "scrolled": true
   },
   "outputs": [],
   "source": [
    "# drop the null values \n",
    "df.dropna(inplace=True)"
   ]
  },
  {
   "cell_type": "code",
   "execution_count": 14,
   "id": "d8843dea",
   "metadata": {},
   "outputs": [
    {
     "data": {
      "text/plain": [
       "(365, 4)"
      ]
     },
     "execution_count": 14,
     "metadata": {},
     "output_type": "execute_result"
    }
   ],
   "source": [
    "df.shape"
   ]
  },
  {
   "cell_type": "code",
   "execution_count": 21,
   "id": "252b5e9a",
   "metadata": {},
   "outputs": [
    {
     "data": {
      "text/plain": [
       "0      False\n",
       "1      False\n",
       "2      False\n",
       "3      False\n",
       "4      False\n",
       "       ...  \n",
       "482    False\n",
       "483    False\n",
       "484    False\n",
       "485    False\n",
       "486    False\n",
       "Name: Name, Length: 365, dtype: bool"
      ]
     },
     "execution_count": 21,
     "metadata": {},
     "output_type": "execute_result"
    }
   ],
   "source": [
    "#checking for duplicate vales in the row\n",
    "df['Sales Qtr - Crore'].duplicated()\n",
    "df['Mar Cap - Crore'].duplicated()\n",
    "df['Name'].duplicated()"
   ]
  },
  {
   "cell_type": "markdown",
   "id": "8771f2ac",
   "metadata": {},
   "source": [
    "No Duplicate values found"
   ]
  },
  {
   "cell_type": "code",
   "execution_count": 26,
   "id": "4375613a",
   "metadata": {},
   "outputs": [],
   "source": [
    "#creating new column named\"marcap to salesqtr ratio\"\n",
    "df[\"marcap to salesqtr ratio\"] = df[\"Mar Cap - Crore\"] / df[\"Sales Qtr - Crore\"]"
   ]
  },
  {
   "cell_type": "code",
   "execution_count": 27,
   "id": "4bad815f",
   "metadata": {},
   "outputs": [
    {
     "data": {
      "text/html": [
       "<div>\n",
       "<style scoped>\n",
       "    .dataframe tbody tr th:only-of-type {\n",
       "        vertical-align: middle;\n",
       "    }\n",
       "\n",
       "    .dataframe tbody tr th {\n",
       "        vertical-align: top;\n",
       "    }\n",
       "\n",
       "    .dataframe thead th {\n",
       "        text-align: right;\n",
       "    }\n",
       "</style>\n",
       "<table border=\"1\" class=\"dataframe\">\n",
       "  <thead>\n",
       "    <tr style=\"text-align: right;\">\n",
       "      <th></th>\n",
       "      <th>S.No.</th>\n",
       "      <th>Name</th>\n",
       "      <th>Mar Cap - Crore</th>\n",
       "      <th>Sales Qtr - Crore</th>\n",
       "      <th>marcap to salesqtr ratio</th>\n",
       "    </tr>\n",
       "  </thead>\n",
       "  <tbody>\n",
       "    <tr>\n",
       "      <th>0</th>\n",
       "      <td>1</td>\n",
       "      <td>Reliance Inds.</td>\n",
       "      <td>583436.72</td>\n",
       "      <td>99810.00</td>\n",
       "      <td>5.845474</td>\n",
       "    </tr>\n",
       "    <tr>\n",
       "      <th>1</th>\n",
       "      <td>2</td>\n",
       "      <td>TCS</td>\n",
       "      <td>563709.84</td>\n",
       "      <td>30904.00</td>\n",
       "      <td>18.240676</td>\n",
       "    </tr>\n",
       "    <tr>\n",
       "      <th>2</th>\n",
       "      <td>3</td>\n",
       "      <td>HDFC Bank</td>\n",
       "      <td>482953.59</td>\n",
       "      <td>20581.27</td>\n",
       "      <td>23.465685</td>\n",
       "    </tr>\n",
       "    <tr>\n",
       "      <th>3</th>\n",
       "      <td>4</td>\n",
       "      <td>ITC</td>\n",
       "      <td>320985.27</td>\n",
       "      <td>9772.02</td>\n",
       "      <td>32.847382</td>\n",
       "    </tr>\n",
       "    <tr>\n",
       "      <th>4</th>\n",
       "      <td>5</td>\n",
       "      <td>H D F C</td>\n",
       "      <td>289497.37</td>\n",
       "      <td>16840.51</td>\n",
       "      <td>17.190535</td>\n",
       "    </tr>\n",
       "  </tbody>\n",
       "</table>\n",
       "</div>"
      ],
      "text/plain": [
       "   S.No.            Name  Mar Cap - Crore  Sales Qtr - Crore  \\\n",
       "0      1  Reliance Inds.        583436.72           99810.00   \n",
       "1      2             TCS        563709.84           30904.00   \n",
       "2      3       HDFC Bank        482953.59           20581.27   \n",
       "3      4             ITC        320985.27            9772.02   \n",
       "4      5         H D F C        289497.37           16840.51   \n",
       "\n",
       "   marcap to salesqtr ratio  \n",
       "0                  5.845474  \n",
       "1                 18.240676  \n",
       "2                 23.465685  \n",
       "3                 32.847382  \n",
       "4                 17.190535  "
      ]
     },
     "execution_count": 27,
     "metadata": {},
     "output_type": "execute_result"
    }
   ],
   "source": [
    "df.head()"
   ]
  },
  {
   "cell_type": "code",
   "execution_count": 75,
   "id": "c891f4e8",
   "metadata": {},
   "outputs": [],
   "source": [
    "#Max value of market cap and sales qtr\n",
    "m=df['Mar Cap - Crore'].max()\n",
    "s=df['Sales Qtr - Crore'].max()"
   ]
  },
  {
   "cell_type": "code",
   "execution_count": 76,
   "id": "2f78da19",
   "metadata": {},
   "outputs": [
    {
     "name": "stdout",
     "output_type": "stream",
     "text": [
      "583436.72\n",
      "110666.93\n"
     ]
    }
   ],
   "source": [
    "print(m)\n",
    "print(s)"
   ]
  },
  {
   "cell_type": "code",
   "execution_count": 78,
   "id": "4ee8732f",
   "metadata": {},
   "outputs": [],
   "source": [
    "#Min value of market cap and sales qtr\n",
    "c=df['Mar Cap - Crore'].min()\n",
    "q=df['Sales Qtr - Crore'].min()"
   ]
  },
  {
   "cell_type": "code",
   "execution_count": 79,
   "id": "c01e3512",
   "metadata": {},
   "outputs": [
    {
     "name": "stdout",
     "output_type": "stream",
     "text": [
      "3017.07\n",
      "47.24\n"
     ]
    }
   ],
   "source": [
    "print(c)\n",
    "print(q)"
   ]
  },
  {
   "cell_type": "code",
   "execution_count": 71,
   "id": "f9453a0d",
   "metadata": {},
   "outputs": [
    {
     "name": "stdout",
     "output_type": "stream",
     "text": [
      "    S.No.            Name  Mar Cap - Crore  Sales Qtr - Crore  \\\n",
      "14     15         I O C L        178017.48          110666.93   \n",
      "0       1  Reliance Inds.        583436.72           99810.00   \n",
      "23     24     Tata Motors        117071.87           74156.07   \n",
      "27     28         B P C L         98278.00           60616.36   \n",
      "54     55         H P C L         58034.78           57474.25   \n",
      "\n",
      "    marcap to salesqtr ratio  \n",
      "14                  1.608588  \n",
      "0                   5.845474  \n",
      "23                  1.578723  \n",
      "27                  1.621311  \n",
      "54                  1.009753  \n"
     ]
    }
   ],
   "source": [
    "#print top 5 companies by sales qtr parameter\n",
    "p=df.nlargest(5, columns=[\"Sales Qtr - Crore\"], keep='first')\n",
    "print(p)"
   ]
  },
  {
   "cell_type": "code",
   "execution_count": 81,
   "id": "205f4593",
   "metadata": {},
   "outputs": [
    {
     "data": {
      "image/png": "[encoded data removed]",
      "text/plain": [
       "<Figure size 432x288 with 1 Axes>"
      ]
     },
     "metadata": {
      "needs_background": "light"
     },
     "output_type": "display_data"
    }
   ],
   "source": [
    "#plot the graph of compaines vs sales\n",
    "x=p['Name']\n",
    "y=p['Sales Qtr - Crore']\n",
    "plt.xlabel('Name', fontsize=20)\n",
    "plt.ylabel('Sales Qtr - Crore', fontsize =20)\n",
    "plt.bar(x,y)\n",
    "plt.show()"
   ]
  },
  {
   "cell_type": "markdown",
   "id": "10e9d79d",
   "metadata": {},
   "source": [
    "Sales refer to any transactions where money or value is exchanged for the ownernship of a good or service.Here company named as IOCL has the best sales."
   ]
  },
  {
   "cell_type": "code",
   "execution_count": 82,
   "id": "6843d64d",
   "metadata": {},
   "outputs": [
    {
     "name": "stdout",
     "output_type": "stream",
     "text": [
      "   S.No.            Name  Mar Cap - Crore  Sales Qtr - Crore  \\\n",
      "0      1  Reliance Inds.        583436.72           99810.00   \n",
      "1      2             TCS        563709.84           30904.00   \n",
      "2      3       HDFC Bank        482953.59           20581.27   \n",
      "3      4             ITC        320985.27            9772.02   \n",
      "4      5         H D F C        289497.37           16840.51   \n",
      "\n",
      "   marcap to salesqtr ratio  \n",
      "0                  5.845474  \n",
      "1                 18.240676  \n",
      "2                 23.465685  \n",
      "3                 32.847382  \n",
      "4                 17.190535  \n"
     ]
    }
   ],
   "source": [
    "#print top 5 companies by market cap parameter\n",
    "f=df.nlargest(5, columns=[\"Mar Cap - Crore\"], keep='first')\n",
    "print(f)"
   ]
  },
  {
   "cell_type": "code",
   "execution_count": 85,
   "id": "65f3422e",
   "metadata": {},
   "outputs": [
    {
     "data": {
      "image/png": "[encoded data removed]",
      "text/plain": [
       "<Figure size 432x288 with 1 Axes>"
      ]
     },
     "metadata": {},
     "output_type": "display_data"
    }
   ],
   "source": [
    "#plot the graph of compaines vs market cap\n",
    "x=f['Name']\n",
    "y=f['Mar Cap - Crore']\n",
    "plt.pie(y, labels=x, radius =1.2,autopct='%0.01f%%', shadow=True,)\n",
    "plt.show()"
   ]
  },
  {
   "cell_type": "markdown",
   "id": "cb5fb1b8",
   "metadata": {},
   "source": [
    "High market cap signifies that the company has a larger presence in the market .Here Reliance Inds. has the largest presence."
   ]
  },
  {
   "cell_type": "code",
   "execution_count": 90,
   "id": "d52e0b61",
   "metadata": {},
   "outputs": [
    {
     "name": "stdout",
     "output_type": "stream",
     "text": [
      "     S.No.              Name  Mar Cap - Crore  Sales Qtr - Crore  \\\n",
      "320    333   Redington India          5896.54           11728.40   \n",
      "122    123    Rajesh Exports         23495.54           41304.84   \n",
      "334    347           C P C L          5427.82            8587.17   \n",
      "441    454  Corporation Bank          3716.46            4387.85   \n",
      "444    457     Oriental Bank          3674.60            4262.08   \n",
      "\n",
      "     marcap to salesqtr ratio  \n",
      "320                  0.502757  \n",
      "122                  0.568833  \n",
      "334                  0.632085  \n",
      "441                  0.846989  \n",
      "444                  0.862161  \n"
     ]
    }
   ],
   "source": [
    "#print top 5 companies vs marcap to salesqtr ratio \n",
    "g=df.nsmallest(5, columns=[\"marcap to salesqtr ratio\"], keep='first')\n",
    "print(g)"
   ]
  },
  {
   "cell_type": "code",
   "execution_count": 92,
   "id": "85f80309",
   "metadata": {},
   "outputs": [
    {
     "data": {
      "image/png": "[encoded data removed]",
      "text/plain": [
       "<Figure size 432x288 with 1 Axes>"
      ]
     },
     "metadata": {
      "needs_background": "light"
     },
     "output_type": "display_data"
    }
   ],
   "source": [
    "x=g['Name']\n",
    "y=g['marcap to salesqtr ratio']\n",
    "plt.xlabel('Name', fontsize=16)\n",
    "plt.ylabel('marcap to salesqtr ratio', fontsize =16)\n",
    "plt.scatter(x,y)\n",
    "plt.plot(x,y)\n",
    "plt.show()"
   ]
  },
  {
   "cell_type": "markdown",
   "id": "d82691f8",
   "metadata": {},
   "source": [
    "Market cap to sales ratio indicates how the market is pricing every rupee sale of the company.The lower the Market cap to sales ratio , the better it is .So,here the company named as Redington India has the best marketcap to sales ratio."
   ]
  },
  {
   "cell_type": "code",
   "execution_count": 95,
   "id": "0966b8c8",
   "metadata": {},
   "outputs": [],
   "source": [
    "df.to_csv(\"cleanedFAD.CSV\", index=False)"
   ]
  },
  {
   "cell_type": "code",
   "execution_count": null,
   "id": "03d3a13e",
   "metadata": {},
   "outputs": [],
   "source": []
  }
 ],
 "metadata": {
  "kernelspec": {
   "display_name": "Python 3 (ipykernel)",
   "language": "python",
   "name": "python3"
  },
  "language_info": {
   "codemirror_mode": {
    "name": "ipython",
    "version": 3
   },
   "file_extension": ".py",
   "mimetype": "text/x-python",
   "name": "python",
   "nbconvert_exporter": "python",
   "pygments_lexer": "ipython3",
   "version": "3.9.12"
  }
 },
 "nbformat": 4,
 "nbformat_minor": 5
}
